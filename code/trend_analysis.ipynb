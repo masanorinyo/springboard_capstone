{
 "cells": [
  {
   "cell_type": "markdown",
   "metadata": {},
   "source": [
    "### Trend Analysis\n",
    "- determining if there is any pattern"
   ]
  },
  {
   "cell_type": "code",
   "execution_count": 2,
   "metadata": {},
   "outputs": [],
   "source": [
    "import numpy as np\n",
    "import pandas as pd\n",
    "import matplotlib.pyplot as plt\n",
    "from lib import utility as util\n",
    "from functools import partial"
   ]
  },
  {
   "cell_type": "markdown",
   "metadata": {},
   "source": [
    "### Import data\n",
    "*** please don't proceec to the next cell before data tables is shown below the cell.***"
   ]
  },
  {
   "cell_type": "code",
   "execution_count": 3,
   "metadata": {},
   "outputs": [
    {
     "name": "stdout",
     "output_type": "stream",
     "text": [
      "<class 'pandas.core.frame.DataFrame'>\n",
      "DatetimeIndex: 876337 entries, 2014-08-01 to 2017-07-28\n",
      "Data columns (total 21 columns):\n",
      "product_id             876337 non-null object\n",
      "sales_id               876337 non-null int64\n",
      "product_name           876337 non-null object\n",
      "category               875463 non-null object\n",
      "subcategory_group      848426 non-null object\n",
      "subcategory            848426 non-null object\n",
      "color                  594582 non-null object\n",
      "size_letter            209937 non-null object\n",
      "size                   844818 non-null object\n",
      "brand                  607592 non-null object\n",
      "manufacture_country    856214 non-null object\n",
      "material_type          875158 non-null object\n",
      "material_group         829490 non-null object\n",
      "material               829490 non-null object\n",
      "quality                836160 non-null object\n",
      "retail_price           876337 non-null float64\n",
      "sold_price             876336 non-null float64\n",
      "sales_proceeds         876337 non-null float64\n",
      "number_of_sales        876337 non-null int64\n",
      "raw_cost               876337 non-null float64\n",
      "gross_profit           876337 non-null float64\n",
      "dtypes: float64(5), int64(2), object(14)\n",
      "memory usage: 147.1+ MB\n"
     ]
    }
   ],
   "source": [
    "# file paths\n",
    "integrated_file = \"../processed_data/cleaned_data.csv\"\n",
    "cleaned_df = pd.read_csv( integrated_file, \n",
    "                             index_col='sales_date',\n",
    "                             header=0,\n",
    "                             parse_dates=['sales_date'],\n",
    "                             low_memory=False )\n",
    "cleaned_df.info()"
   ]
  },
  {
   "cell_type": "markdown",
   "metadata": {},
   "source": [
    "### Questions to answer\n",
    "#### Counting "
   ]
  },
  {
   "cell_type": "code",
   "execution_count": 89,
   "metadata": {},
   "outputs": [
    {
     "name": "stdout",
     "output_type": "stream",
     "text": [
      "Total number of sales in 2016~2016 is 1014756\n"
     ]
    },
    {
     "data": {
      "text/plain": [
       "category\n",
       "実用小物・消耗品    219703\n",
       "台所用品        140219\n",
       "手袋帽子マフラＳ    108891\n",
       "バッグ・サイフ      88731\n",
       "手袋帽子マフラＷ     66217\n",
       "アクセサリー       65463\n",
       "クリスマス商品      60660\n",
       "園芸用品         52375\n",
       "その他          32762\n",
       "スカーフＡＷ       24360\n",
       "ＳＳ履物　内履      19931\n",
       "インテリア雑貨      16183\n",
       "スカーフＳＳ       15735\n",
       "Ｌ／Ｍ　Ｔ／Ｍ      11885\n",
       "ＡＷ履物　内履      11873\n",
       "ハンカチ         11582\n",
       "のれん　カーテン      9253\n",
       "Ｔ／Ｃ　正・丸       8757\n",
       "Ｓ＆Ｓワンピース      7030\n",
       "Ｓ＆Ｓブラウス       5931\n",
       "Ａ＆Ｗワンピース      4854\n",
       "御香・香炉・ポプ      4102\n",
       "Ｃ／Ｃ　Ｐ／Ｃ       4085\n",
       "フロアーマット       3907\n",
       "Ａ＆Ｗセーター       3160\n",
       "文具・デスク用品      2518\n",
       "Ｋ／Ｔ　Ｄ／Ｃ       1614\n",
       "家具・小型         1604\n",
       "ＳＳ履物　外履       1074\n",
       "Ａ＆Ｗジャケット      1037\n",
       "Ａ＆Ｗパンツ         964\n",
       "Ａ＆Ｗブラウス        854\n",
       "Ｓ＆Ｓスカート        752\n",
       "家具・中型          429\n",
       "Ｂ／Ｓ．シングル       410\n",
       "Ｓ＆Ｓパンツ         396\n",
       "Ａ＆Ｗスカート        369\n",
       "キルト・ＮＡＰ        268\n",
       "生地・布（春夏）       192\n",
       "Ｔ／Ｃ　長方形        158\n",
       "Ｓ＆Ｓジャケット       158\n",
       "ＡＷ履物　外履        143\n",
       "その他の衣料          84\n",
       "ベスト             36\n",
       "家具・大型           12\n",
       "Name: number_of_sales, dtype: int64"
      ]
     },
     "execution_count": 89,
     "metadata": {},
     "output_type": "execute_result"
    }
   ],
   "source": [
    "# how many products sold by month and year?\n",
    "# - category\n",
    "def get_rank_by(data, group_by, sum_by, start_date=\"2014\",end_date=\"2014\"):\n",
    "    return data.loc[start_date:end_date].groupby(group_by)[sum_by].sum().sort_values(ascending=False)\n",
    "\n",
    "start_date = '2016'\n",
    "end_date = '2016'\n",
    "total_num_of_sales = cleaned_df.loc[start_date:end_date,'number_of_sales'].sum()\n",
    "print(\"Total number of sales in {}~{} is {}\".format(start_date, end_date, total_num_of_sales))\n",
    "\n",
    "ranks_for_category_by_num_of_sales = get_rank_by(data=cleaned_df, group_by='category', sum_by='number_of_sales', start_date=start_date, end_date=end_date)\n",
    "ranks_for_category_by_num_of_sales\n",
    "\n",
    "\n",
    "\n",
    "\n",
    "# num_of_sold_by_category = cleaned_df.loc['2015','category'].value_counts()\n",
    "# num_of_sold_by_category\n",
    "# num_of_sold_by_category.value_counts()\n"
   ]
  },
  {
   "cell_type": "markdown",
   "metadata": {},
   "source": [
    "#### Determining Trend"
   ]
  },
  {
   "cell_type": "code",
   "execution_count": 17,
   "metadata": {},
   "outputs": [],
   "source": [
    "\n",
    "# - subcategory_group\n",
    "# - subcategory\n",
    "\n",
    "# how many products used by specific material\n",
    "# - category \n",
    "# - \n",
    "\n",
    "\n",
    "\n",
    "# category by sales_proceed, # of sales, and gross profit\n",
    "# - by itself　\n",
    "# - by month and year\n",
    "\n",
    "# subcategory group by sales_proceed and # of sales\n",
    "# - by itself\n",
    "# - by month and year\n",
    "\n",
    "# subcategory by sales_proceed and # of sales\n",
    "# - by itself\n",
    "# - by month and year\n",
    "\n",
    "# colors by sales_proceed and # of sales\n",
    "# - by itself, category, subcategory group, subcategory\n",
    "# - by month and year\n",
    "\n",
    "# manufacturer_country by sales_proceed and # of sales\n",
    "# - by itself, category, subcategory group, subcategory\n",
    "# - by month and year\n",
    "\n",
    "# material_type by sales_proceed and # of sales\n",
    "# - by itself, category, subcategory group, subcategory\n",
    "# - by month and year\n",
    "\n",
    "# material_group by sales_proceed and # of sales\n",
    "# - by itself, category, subcategory group, subcategory\n",
    "# - by month and year\n",
    "\n",
    "# material by sales_proceed and # of sales\n",
    "# - by itself, category, subcategory group, subcategory\n",
    "# - by month and year\n",
    "\n",
    "# which product type has the highest sales_proceed\n",
    "# by category, subcategory group, subcategory, color, material_type, material_group, material, manufacturer_country\n",
    "\n",
    "# which product type has the highest number of sales\n",
    "# by category, subcategory group, subcategory, color, material_type, material_group, material, manufacturer_country\n",
    "\n",
    "# which product type has the highest gross profit\n",
    "# by category, subcategory group, subcategory, color, material_type, material_group, material, manufacturer_country\n",
    "\n",
    "\n",
    "# which product type has the lowest sales_proceed\n",
    "# by category, subcategory group, subcategory, color, material_type, material_group, material, manufacturer_country\n",
    "\n",
    "\n",
    "# which product type has the lowest number of sales\n",
    "# by category, subcategory group, subcategory, color, material_type, material_group, material, manufacturer_country\n",
    "\n",
    "# which product type has the lowest gross profit\n",
    "# by category, subcategory group, subcategory, color, material_type, material_group, material, manufacturer_country\n",
    "\n",
    "\n",
    "# which product type has been increasing its sales_proceed\n",
    "# by category, subcategory group, subcategory, color, material_type, material_group, material, manufacturer_country\n",
    "# - within this half a year, this year, two years, 4 years\n",
    "\n",
    "# which product type has been decreasubg its sales_proceed\n",
    "# by category, subcategory group, subcategory, color, material_type, material_group, material, manufacturer_country\n",
    "# - within this half a year, this year, two years, 4 years\n",
    "\n",
    "# which product type has anomalities \n",
    "# by category, subcategory group, subcategory, color, material_type, material_group, material, manufacturer_country"
   ]
  },
  {
   "cell_type": "markdown",
   "metadata": {},
   "source": [
    "#### Comparing numbers\n",
    "- compare two related quantities?"
   ]
  },
  {
   "cell_type": "code",
   "execution_count": 10,
   "metadata": {},
   "outputs": [],
   "source": [
    "\n",
    "# which one has more profits - different selling price points compared against their total profit\n",
    "# which one has more profits - different raw price points compared against their total profit"
   ]
  },
  {
   "cell_type": "markdown",
   "metadata": {},
   "source": [
    "#### Graph\n",
    "- bar plot, histograph, scatter plot"
   ]
  },
  {
   "cell_type": "code",
   "execution_count": null,
   "metadata": {},
   "outputs": [],
   "source": [
    "# Can you make a bar plot or a histogram?\n",
    "# Can you make a scatterplot?\n",
    "\n",
    "\n"
   ]
  },
  {
   "cell_type": "markdown",
   "metadata": {},
   "source": [
    "#### Drawing time series plot"
   ]
  },
  {
   "cell_type": "code",
   "execution_count": null,
   "metadata": {},
   "outputs": [],
   "source": [
    "# Can you make a time-series plot?\n",
    "\n",
    "\n"
   ]
  },
  {
   "cell_type": "markdown",
   "metadata": {},
   "source": [
    "### Insights\n",
    "- what are some insights you get from them? \n",
    "- Do you see any correlations? \n",
    "- Is there a hypothesis you would like to investigate further? \n",
    "- What other questions do they lead you to ask?"
   ]
  },
  {
   "cell_type": "code",
   "execution_count": null,
   "metadata": {},
   "outputs": [],
   "source": []
  },
  {
   "cell_type": "markdown",
   "metadata": {},
   "source": [
    "### Narrative\n",
    "- A way of presenting the insights using text and plots from the above\n",
    "- what are some other trends/relationships you think will make it more complete?"
   ]
  },
  {
   "cell_type": "code",
   "execution_count": null,
   "metadata": {},
   "outputs": [],
   "source": []
  }
 ],
 "metadata": {
  "kernelspec": {
   "display_name": "Python 3",
   "language": "python",
   "name": "python3"
  },
  "language_info": {
   "codemirror_mode": {
    "name": "ipython",
    "version": 3
   },
   "file_extension": ".py",
   "mimetype": "text/x-python",
   "name": "python",
   "nbconvert_exporter": "python",
   "pygments_lexer": "ipython3",
   "version": "3.6.4"
  }
 },
 "nbformat": 4,
 "nbformat_minor": 2
}
